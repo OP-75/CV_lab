{
  "cells": [
    {
      "cell_type": "code",
      "execution_count": 11,
      "metadata": {
        "id": "R_BkU6i7HY8E"
      },
      "outputs": [],
      "source": [
        "import numpy as np\n",
        "import pandas as pd\n",
        "import os\n",
        "import csv\n",
        "import cv2\n",
        "from sklearn.cluster import KMeans\n",
        "from sklearn.model_selection import train_test_split\n",
        "from sklearn.metrics import classification_report\n",
        "from sklearn.tree import DecisionTreeClassifier\n",
        "import sklearn.metrics as metrics\n",
        "from sklearn.metrics import accuracy_score\n",
        "from sklearn.preprocessing import Normalizer\n",
        "import pickle\n",
        "import matplotlib.pyplot as plt"
      ]
    },
    {
      "cell_type": "code",
      "execution_count": 12,
      "metadata": {
        "id": "lGJlaDpRHY8L"
      },
      "outputs": [],
      "source": [
        "folder1=r'D:\\Datasets\\catsDogs\\train\\cat'\n",
        "folder2=r'D:\\Datasets\\catsDogs\\train\\dog'"
      ]
    },
    {
      "cell_type": "markdown",
      "metadata": {
        "id": "mhRG0fqjHY8N"
      },
      "source": [
        "## Preprocessing and feature description"
      ]
    },
    {
      "cell_type": "code",
      "execution_count": 13,
      "metadata": {
        "id": "9iBarteyHY8S"
      },
      "outputs": [],
      "source": [
        "kernelx = np.array([[1,1,1],[0,0,0],[-1,-1,-1]]) #kernels for prewitt edge detection\n",
        "kernely = np.array([[-1,0,1],[-1,0,1],[-1,0,1]])"
      ]
    },
    {
      "cell_type": "code",
      "execution_count": 14,
      "metadata": {
        "id": "AyNhydYSZ1OL"
      },
      "outputs": [
        {
          "name": "stdout",
          "output_type": "stream",
          "text": [
            "descriptor shape  0  :  (756, 1)\n",
            "descriptor shape  1  :  (756, 1)\n",
            "descriptor shape  2  :  (756, 1)\n",
            "descriptor shape  3  :  (756, 1)\n",
            "descriptor shape  4  :  (756, 1)\n",
            "descriptor shape  5  :  (756, 1)\n",
            "descriptor shape  6  :  (756, 1)\n",
            "descriptor shape  7  :  (756, 1)\n",
            "descriptor shape  8  :  (756, 1)\n",
            "descriptor shape  9  :  (756, 1)\n",
            "descriptor shape  10  :  (756, 1)\n",
            "descriptor shape  11  :  (756, 1)\n",
            "descriptor shape  12  :  (756, 1)\n",
            "descriptor shape  13  :  (756, 1)\n",
            "descriptor shape  14  :  (756, 1)\n",
            "descriptor shape  15  :  (756, 1)\n",
            "descriptor shape  16  :  (756, 1)\n",
            "descriptor shape  17  :  (756, 1)\n",
            "descriptor shape  18  :  (756, 1)\n",
            "descriptor shape  19  :  (756, 1)\n"
          ]
        },
        {
          "name": "stdout",
          "output_type": "stream",
          "text": [
            "descriptor shape  20  :  (756, 1)\n",
            "descriptor shape  21  :  (756, 1)\n",
            "descriptor shape  22  :  (756, 1)\n",
            "descriptor shape  23  :  (756, 1)\n",
            "descriptor shape  24  :  (756, 1)\n",
            "descriptor shape  25  :  (756, 1)\n",
            "descriptor shape  26  :  (756, 1)\n",
            "descriptor shape  27  :  (756, 1)\n",
            "descriptor shape  28  :  (756, 1)\n",
            "descriptor shape  29  :  (756, 1)\n",
            "descriptor shape  30  :  (756, 1)\n",
            "descriptor shape  31  :  (756, 1)\n",
            "descriptor shape  32  :  (756, 1)\n",
            "descriptor shape  33  :  (756, 1)\n",
            "descriptor shape  34  :  (756, 1)\n",
            "descriptor shape  35  :  (756, 1)\n",
            "descriptor shape  36  :  (756, 1)\n",
            "descriptor shape  37  :  (756, 1)\n",
            "descriptor shape  38  :  (756, 1)\n",
            "descriptor shape  39  :  (756, 1)\n",
            "descriptor shape  40  :  (756, 1)\n",
            "descriptor shape  41  :  (756, 1)\n",
            "descriptor shape  42  :  (756, 1)\n",
            "descriptor shape  43  :  (756, 1)\n",
            "descriptor shape  44  :  (756, 1)\n",
            "descriptor shape  45  :  (756, 1)\n",
            "descriptor shape  46  :  (756, 1)\n",
            "descriptor shape  47  :  (756, 1)\n",
            "descriptor shape  48  :  (756, 1)\n",
            "descriptor shape  49  :  (756, 1)\n",
            "descriptor shape  50  :  (756, 1)\n",
            "descriptor shape  51  :  (756, 1)\n",
            "descriptor shape  52  :  (756, 1)\n",
            "descriptor shape  53  :  (756, 1)\n",
            "descriptor shape  54  :  (756, 1)\n",
            "descriptor shape  55  :  (756, 1)\n",
            "descriptor shape  56  :  (756, 1)\n",
            "descriptor shape  57  :  (756, 1)\n",
            "descriptor shape  58  :  (756, 1)\n",
            "descriptor shape  59  :  (756, 1)\n",
            "descriptor shape  60  :  (756, 1)\n",
            "descriptor shape  61  :  (756, 1)\n",
            "descriptor shape  62  :  (756, 1)\n",
            "descriptor shape  63  :  (756, 1)\n",
            "descriptor shape  64  :  (756, 1)\n",
            "descriptor shape  65  :  (756, 1)\n",
            "descriptor shape  66  :  (756, 1)\n",
            "descriptor shape  67  :  (756, 1)\n",
            "descriptor shape  68  :  (756, 1)\n",
            "descriptor shape  69  :  (756, 1)\n",
            "descriptor shape  70  :  (756, 1)\n",
            "descriptor shape  71  :  (756, 1)\n",
            "descriptor shape  72  :  (756, 1)\n",
            "descriptor shape  73  :  (756, 1)\n",
            "descriptor shape  74  :  (756, 1)\n",
            "descriptor shape  75  :  (756, 1)\n",
            "descriptor shape  76  :  (756, 1)\n",
            "descriptor shape  77  :  (756, 1)\n",
            "descriptor shape  78  :  (756, 1)\n",
            "descriptor shape  79  :  (756, 1)\n",
            "descriptor shape  80  :  (756, 1)\n",
            "descriptor shape  81  :  (756, 1)\n",
            "descriptor shape  82  :  (756, 1)\n",
            "descriptor shape  83  :  (756, 1)\n",
            "descriptor shape  84  :  (756, 1)\n",
            "descriptor shape  85  :  (756, 1)\n",
            "descriptor shape  86  :  (756, 1)\n",
            "descriptor shape  87  :  (756, 1)\n",
            "descriptor shape  88  :  (756, 1)\n",
            "descriptor shape  89  :  (756, 1)\n",
            "descriptor shape  90  :  (756, 1)\n",
            "descriptor shape  91  :  (756, 1)\n",
            "descriptor shape  92  :  (756, 1)\n",
            "descriptor shape  93  :  (756, 1)\n",
            "descriptor shape  94  :  (756, 1)\n"
          ]
        }
      ],
      "source": [
        "i=0\n",
        "for filename in os.listdir(folder1):\n",
        "    #path\n",
        "    path=os.path.join(folder1,filename)\n",
        "    a=cv2.imread(path)\n",
        "\n",
        "    #resize image\n",
        "    resize=(128, 64)\n",
        "    img=cv2.resize(a,resize)\n",
        "\n",
        "    #gray image\n",
        "    gray = cv2.cvtColor(img, cv2.COLOR_BGR2GRAY)\n",
        "    img2= cv2.GaussianBlur(gray,(3, 3),0)#gaussian Image\n",
        "\n",
        "    img_prewittx = cv2.filter2D(img2, -1, kernelx)#Horizontal\n",
        "    img_prewitty = cv2.filter2D(img2, -1, kernely)#Vertical\n",
        "    img_prewitt = img_prewittx + img_prewitty\n",
        "    #initialise hog descriptor\n",
        "\n",
        "    cell_size = (16, 16)  # h x w in pixels \n",
        "    block_size = (2, 2)  # h x w in cells\n",
        "    nbins = 9  # number of orientation bins\n",
        "\n",
        "    \n",
        "\n",
        "    # winSize is the size of the image cropped to an multiple of the cell size\n",
        "    # cell_size is the size of the cells of the img patch over which to calculate the histograms\n",
        "    # block_size is the number of cells which fit in the patch\n",
        "    hog = cv2.HOGDescriptor(_winSize=(img_prewitt.shape[1] // cell_size[1] * cell_size[1],\n",
        "                                      img_prewitt.shape[0] // cell_size[0] * cell_size[0]),\n",
        "                _blockSize=(block_size[1] * cell_size[1],\n",
        "                            block_size[0] * cell_size[0]),\n",
        "                _blockStride=(cell_size[1], cell_size[0]),\n",
        "                _cellSize=(cell_size[1], cell_size[0]),\n",
        "                _nbins=nbins)\n",
        "\n",
        "\n",
        "    descriptor = hog.compute(img_prewitt)\n",
        "\n",
        "    #norm = Normalizer()\n",
        "    #normalized = norm.fit_transform(descriptors)\n",
        "    #convert the descriptor array into a dataframe format\n",
        "    out=pd.DataFrame(descriptor)\n",
        "    print(\"descriptor shape \",i,\" : \", out.shape)\n",
        "    i=i+1\n",
        "\n",
        "    #drop first coloumn as it's the no of feature detected. Not required.\n",
        "    #append to the csv file\n",
        "    csv_data=out.to_csv('output/hog_positive.csv', mode='a', header=False,index=False)"
      ]
    },
    {
      "cell_type": "code",
      "execution_count": 15,
      "metadata": {},
      "outputs": [
        {
          "name": "stdout",
          "output_type": "stream",
          "text": [
            "(64, 128)\n",
            "(756,)\n"
          ]
        }
      ],
      "source": [
        "print(img_prewitt.shape)\n",
        "print(descriptor.shape)"
      ]
    },
    {
      "cell_type": "code",
      "execution_count": 16,
      "metadata": {
        "id": "S-ceHArlZ1OM"
      },
      "outputs": [
        {
          "data": {
            "text/html": [
              "<div>\n",
              "<style scoped>\n",
              "    .dataframe tbody tr th:only-of-type {\n",
              "        vertical-align: middle;\n",
              "    }\n",
              "\n",
              "    .dataframe tbody tr th {\n",
              "        vertical-align: top;\n",
              "    }\n",
              "\n",
              "    .dataframe thead th {\n",
              "        text-align: right;\n",
              "    }\n",
              "</style>\n",
              "<table border=\"1\" class=\"dataframe\">\n",
              "  <thead>\n",
              "    <tr style=\"text-align: right;\">\n",
              "      <th></th>\n",
              "      <th>0</th>\n",
              "    </tr>\n",
              "  </thead>\n",
              "  <tbody>\n",
              "    <tr>\n",
              "      <th>0</th>\n",
              "      <td>0.318667</td>\n",
              "    </tr>\n",
              "    <tr>\n",
              "      <th>1</th>\n",
              "      <td>0.099782</td>\n",
              "    </tr>\n",
              "    <tr>\n",
              "      <th>2</th>\n",
              "      <td>0.036944</td>\n",
              "    </tr>\n",
              "    <tr>\n",
              "      <th>3</th>\n",
              "      <td>0.012675</td>\n",
              "    </tr>\n",
              "    <tr>\n",
              "      <th>4</th>\n",
              "      <td>0.027983</td>\n",
              "    </tr>\n",
              "    <tr>\n",
              "      <th>...</th>\n",
              "      <td>...</td>\n",
              "    </tr>\n",
              "    <tr>\n",
              "      <th>71815</th>\n",
              "      <td>0.253702</td>\n",
              "    </tr>\n",
              "    <tr>\n",
              "      <th>71816</th>\n",
              "      <td>0.100809</td>\n",
              "    </tr>\n",
              "    <tr>\n",
              "      <th>71817</th>\n",
              "      <td>0.032385</td>\n",
              "    </tr>\n",
              "    <tr>\n",
              "      <th>71818</th>\n",
              "      <td>0.038910</td>\n",
              "    </tr>\n",
              "    <tr>\n",
              "      <th>71819</th>\n",
              "      <td>0.048601</td>\n",
              "    </tr>\n",
              "  </tbody>\n",
              "</table>\n",
              "<p>71820 rows × 1 columns</p>\n",
              "</div>"
            ],
            "text/plain": [
              "              0\n",
              "0      0.318667\n",
              "1      0.099782\n",
              "2      0.036944\n",
              "3      0.012675\n",
              "4      0.027983\n",
              "...         ...\n",
              "71815  0.253702\n",
              "71816  0.100809\n",
              "71817  0.032385\n",
              "71818  0.038910\n",
              "71819  0.048601\n",
              "\n",
              "[71820 rows x 1 columns]"
            ]
          },
          "execution_count": 16,
          "metadata": {},
          "output_type": "execute_result"
        }
      ],
      "source": [
        "data1 = pd.read_csv(r'output/hog_positive.csv',header=None,dtype='float64')\n",
        "#MemoryError: Unable to allocate 166. MiB for an array with shape (128, 169606) and data type float64,\n",
        "#Double-precision floating-point format\n",
        "\n",
        "data1=data1.astype(np.float64)\n",
        "#as unit8 contain 1 byte(8bit) and ranges from 0 to 255\n",
        "data1"
      ]
    },
    {
      "cell_type": "code",
      "execution_count": 17,
      "metadata": {
        "id": "9rxf7PmQZ1OO"
      },
      "outputs": [
        {
          "name": "stdout",
          "output_type": "stream",
          "text": [
            "descriptor shape  0  :  (756, 1)\n",
            "descriptor shape  1  :  (756, 1)\n",
            "descriptor shape  2  :  (756, 1)\n",
            "descriptor shape  3  :  (756, 1)\n",
            "descriptor shape  4  :  (756, 1)\n",
            "descriptor shape  5  :  (756, 1)\n",
            "descriptor shape  6  :  (756, 1)\n",
            "descriptor shape  7  :  (756, 1)\n",
            "descriptor shape  8  :  (756, 1)\n",
            "descriptor shape  9  :  (756, 1)\n",
            "descriptor shape  10  :  (756, 1)\n",
            "descriptor shape  11  :  (756, 1)\n",
            "descriptor shape  12  :  (756, 1)\n",
            "descriptor shape  13  :  (756, 1)\n",
            "descriptor shape  14  :  (756, 1)\n",
            "descriptor shape  15  :  (756, 1)\n",
            "descriptor shape  16  :  (756, 1)\n",
            "descriptor shape  17  :  (756, 1)\n",
            "descriptor shape  18  :  (756, 1)\n",
            "descriptor shape  19  :  (756, 1)\n",
            "descriptor shape  20  :  (756, 1)\n",
            "descriptor shape  21  :  (756, 1)\n",
            "descriptor shape  22  :  (756, 1)\n",
            "descriptor shape  23  :  (756, 1)\n",
            "descriptor shape  24  :  (756, 1)\n",
            "descriptor shape  25  :  (756, 1)\n",
            "descriptor shape  26  :  (756, 1)\n",
            "descriptor shape  27  :  (756, 1)\n",
            "descriptor shape  28  :  (756, 1)\n",
            "descriptor shape  29  :  (756, 1)\n",
            "descriptor shape  30  :  (756, 1)\n",
            "descriptor shape  31  :  (756, 1)\n",
            "descriptor shape  32  :  (756, 1)\n",
            "descriptor shape  33  :  (756, 1)\n",
            "descriptor shape  34  :  (756, 1)\n",
            "descriptor shape  35  :  (756, 1)\n",
            "descriptor shape  36  :  (756, 1)\n",
            "descriptor shape  37  :  (756, 1)\n",
            "descriptor shape  38  :  (756, 1)\n",
            "descriptor shape  39  :  (756, 1)\n",
            "descriptor shape  40  :  (756, 1)\n",
            "descriptor shape  41  :  (756, 1)\n",
            "descriptor shape  42  :  (756, 1)\n",
            "descriptor shape  43  :  (756, 1)\n",
            "descriptor shape  44  :  (756, 1)\n",
            "descriptor shape  45  :  (756, 1)\n",
            "descriptor shape  46  :  (756, 1)\n",
            "descriptor shape  47  :  (756, 1)\n",
            "descriptor shape  48  :  (756, 1)\n",
            "descriptor shape  49  :  (756, 1)\n",
            "descriptor shape  50  :  (756, 1)\n",
            "descriptor shape  51  :  (756, 1)\n",
            "descriptor shape  52  :  (756, 1)\n",
            "descriptor shape  53  :  (756, 1)\n",
            "descriptor shape  54  :  (756, 1)\n",
            "descriptor shape  55  :  (756, 1)\n",
            "descriptor shape  56  :  (756, 1)\n",
            "descriptor shape  57  :  (756, 1)\n",
            "descriptor shape  58  :  (756, 1)\n",
            "descriptor shape  59  :  (756, 1)\n",
            "descriptor shape  60  :  (756, 1)\n",
            "descriptor shape  61  :  (756, 1)\n",
            "descriptor shape  62  :  (756, 1)\n",
            "descriptor shape  63  :  (756, 1)\n",
            "descriptor shape  64  :  (756, 1)\n",
            "descriptor shape  65  :  (756, 1)\n",
            "descriptor shape  66  :  (756, 1)\n",
            "descriptor shape  67  :  (756, 1)\n",
            "descriptor shape  68  :  (756, 1)\n",
            "descriptor shape  69  :  (756, 1)\n",
            "descriptor shape  70  :  (756, 1)\n",
            "descriptor shape  71  :  (756, 1)\n",
            "descriptor shape  72  :  (756, 1)\n",
            "descriptor shape  73  :  (756, 1)\n",
            "descriptor shape  74  :  (756, 1)\n",
            "descriptor shape  75  :  (756, 1)\n",
            "descriptor shape  76  :  (756, 1)\n",
            "descriptor shape  77  :  (756, 1)\n",
            "descriptor shape  78  :  (756, 1)\n",
            "descriptor shape  79  :  (756, 1)\n",
            "descriptor shape  80  :  (756, 1)\n",
            "descriptor shape  81  :  (756, 1)\n",
            "descriptor shape  82  :  (756, 1)\n",
            "descriptor shape  83  :  (756, 1)\n",
            "descriptor shape  84  :  (756, 1)\n",
            "descriptor shape  85  :  (756, 1)\n",
            "descriptor shape  86  :  (756, 1)\n",
            "descriptor shape  87  :  (756, 1)\n",
            "descriptor shape  88  :  (756, 1)\n",
            "descriptor shape  89  :  (756, 1)\n",
            "descriptor shape  90  :  (756, 1)\n",
            "descriptor shape  91  :  (756, 1)\n",
            "descriptor shape  92  :  (756, 1)\n",
            "descriptor shape  93  :  (756, 1)\n",
            "descriptor shape  94  :  (756, 1)\n",
            "descriptor shape  95  :  (756, 1)\n",
            "descriptor shape  96  :  (756, 1)\n",
            "descriptor shape  97  :  (756, 1)\n",
            "descriptor shape  98  :  (756, 1)\n",
            "descriptor shape  99  :  (756, 1)\n",
            "descriptor shape  100  :  (756, 1)\n",
            "descriptor shape  101  :  (756, 1)\n",
            "descriptor shape  102  :  (756, 1)\n",
            "descriptor shape  103  :  (756, 1)\n",
            "descriptor shape  104  :  (756, 1)\n",
            "descriptor shape  105  :  (756, 1)\n",
            "descriptor shape  106  :  (756, 1)\n",
            "descriptor shape  107  :  (756, 1)\n",
            "descriptor shape  108  :  (756, 1)\n",
            "descriptor shape  109  :  (756, 1)\n",
            "descriptor shape  110  :  (756, 1)\n",
            "descriptor shape  111  :  (756, 1)\n",
            "descriptor shape  112  :  (756, 1)\n",
            "descriptor shape  113  :  (756, 1)\n",
            "descriptor shape  114  :  (756, 1)\n",
            "descriptor shape  115  :  (756, 1)\n",
            "descriptor shape  116  :  (756, 1)\n",
            "descriptor shape  117  :  (756, 1)\n",
            "descriptor shape  118  :  (756, 1)\n",
            "descriptor shape  119  :  (756, 1)\n",
            "descriptor shape  120  :  (756, 1)\n",
            "descriptor shape  121  :  (756, 1)\n",
            "descriptor shape  122  :  (756, 1)\n",
            "descriptor shape  123  :  (756, 1)\n",
            "descriptor shape  124  :  (756, 1)\n",
            "descriptor shape  125  :  (756, 1)\n",
            "descriptor shape  126  :  (756, 1)\n",
            "descriptor shape  127  :  (756, 1)\n",
            "descriptor shape  128  :  (756, 1)\n",
            "descriptor shape  129  :  (756, 1)\n",
            "descriptor shape  130  :  (756, 1)\n",
            "descriptor shape  131  :  (756, 1)\n",
            "descriptor shape  132  :  (756, 1)\n",
            "descriptor shape  133  :  (756, 1)\n",
            "descriptor shape  134  :  (756, 1)\n",
            "descriptor shape  135  :  (756, 1)\n",
            "descriptor shape  136  :  (756, 1)\n",
            "descriptor shape  137  :  (756, 1)\n",
            "descriptor shape  138  :  (756, 1)\n",
            "descriptor shape  139  :  (756, 1)\n",
            "descriptor shape  140  :  (756, 1)\n",
            "descriptor shape  141  :  (756, 1)\n",
            "descriptor shape  142  :  (756, 1)\n",
            "descriptor shape  143  :  (756, 1)\n",
            "descriptor shape  144  :  (756, 1)\n",
            "descriptor shape  145  :  (756, 1)\n",
            "descriptor shape  146  :  (756, 1)\n",
            "descriptor shape  147  :  (756, 1)\n",
            "descriptor shape  148  :  (756, 1)\n",
            "descriptor shape  149  :  (756, 1)\n",
            "descriptor shape  150  :  (756, 1)\n",
            "descriptor shape  151  :  (756, 1)\n",
            "descriptor shape  152  :  (756, 1)\n",
            "descriptor shape  153  :  (756, 1)\n",
            "descriptor shape  154  :  (756, 1)\n",
            "descriptor shape  155  :  (756, 1)\n",
            "descriptor shape  156  :  (756, 1)\n",
            "descriptor shape  157  :  (756, 1)\n",
            "descriptor shape  158  :  (756, 1)\n",
            "descriptor shape  159  :  (756, 1)\n",
            "descriptor shape  160  :  (756, 1)\n",
            "descriptor shape  161  :  (756, 1)\n",
            "descriptor shape  162  :  (756, 1)\n",
            "descriptor shape  163  :  (756, 1)\n",
            "descriptor shape  164  :  (756, 1)\n",
            "descriptor shape  165  :  (756, 1)\n",
            "descriptor shape  166  :  (756, 1)\n",
            "descriptor shape  167  :  (756, 1)\n",
            "descriptor shape  168  :  (756, 1)\n",
            "descriptor shape  169  :  (756, 1)\n",
            "descriptor shape  170  :  (756, 1)\n",
            "descriptor shape  171  :  (756, 1)\n",
            "descriptor shape  172  :  (756, 1)\n",
            "descriptor shape  173  :  (756, 1)\n",
            "descriptor shape  174  :  (756, 1)\n",
            "descriptor shape  175  :  (756, 1)\n",
            "descriptor shape  176  :  (756, 1)\n",
            "descriptor shape  177  :  (756, 1)\n",
            "descriptor shape  178  :  (756, 1)\n",
            "descriptor shape  179  :  (756, 1)\n"
          ]
        }
      ],
      "source": [
        "i=0\n",
        "for filename in os.listdir(folder2):\n",
        "\n",
        "    path=os.path.join(folder2,filename)\n",
        "    a=cv2.imread(path)\n",
        "\n",
        "    #resize image\n",
        "    resize=(128, 64)\n",
        "    img=cv2.resize(a,resize)\n",
        "\n",
        "    gray = cv2.cvtColor(img, cv2.COLOR_BGR2GRAY)\n",
        "    img2= cv2.GaussianBlur(gray,(3, 3),0)#gaussian Image\n",
        "\n",
        "    img_prewittx = cv2.filter2D(img2, -1, kernelx)#Horizontal\n",
        "    img_prewitty = cv2.filter2D(img2, -1, kernely)#Vertical\n",
        "    img_prewitt = img_prewittx + img_prewitty\n",
        "    #initialise sift descriptor\n",
        "    cell_size = (16, 16)  # h x w in pixels\n",
        "    block_size = (2, 2)  # h x w in cells\n",
        "    nbins = 9  # number of orientation bins\n",
        "\n",
        "    # winSize is the size of the image cropped to an multiple of the cell size\n",
        "    # cell_size is the size of the cells of the img patch over which to calculate the histograms\n",
        "    # block_size is the number of cells which fit in the patch\n",
        "    hog = cv2.HOGDescriptor(_winSize=(img_prewitt.shape[1] // cell_size[1] * cell_size[1],\n",
        "                                      img_prewitt.shape[0] // cell_size[0] * cell_size[0]),\n",
        "                _blockSize=(block_size[1] * cell_size[1],\n",
        "                            block_size[0] * cell_size[0]),\n",
        "                _blockStride=(cell_size[1], cell_size[0]),\n",
        "                _cellSize=(cell_size[1], cell_size[0]),\n",
        "                _nbins=nbins)\n",
        "\n",
        "\n",
        "    descriptor = hog.compute(img_prewitt)\n",
        "    out=pd.DataFrame(descriptor)\n",
        "\n",
        "    print(\"descriptor shape \",i,\" : \", out.shape)\n",
        "    i=i+1\n",
        "    #drop first coloumn as it's the no of feature detected. Not required.\n",
        "    #append to the csv file\n",
        "    csv_data=out.to_csv('output/hog_negative.csv', mode='a', header=False,index=False)"
      ]
    },
    {
      "cell_type": "code",
      "execution_count": 18,
      "metadata": {
        "id": "GXWm2-TzZ1OO"
      },
      "outputs": [
        {
          "data": {
            "text/html": [
              "<div>\n",
              "<style scoped>\n",
              "    .dataframe tbody tr th:only-of-type {\n",
              "        vertical-align: middle;\n",
              "    }\n",
              "\n",
              "    .dataframe tbody tr th {\n",
              "        vertical-align: top;\n",
              "    }\n",
              "\n",
              "    .dataframe thead th {\n",
              "        text-align: right;\n",
              "    }\n",
              "</style>\n",
              "<table border=\"1\" class=\"dataframe\">\n",
              "  <thead>\n",
              "    <tr style=\"text-align: right;\">\n",
              "      <th></th>\n",
              "      <th>0</th>\n",
              "    </tr>\n",
              "  </thead>\n",
              "  <tbody>\n",
              "    <tr>\n",
              "      <th>0</th>\n",
              "      <td>0.031364</td>\n",
              "    </tr>\n",
              "    <tr>\n",
              "      <th>1</th>\n",
              "      <td>0.016210</td>\n",
              "    </tr>\n",
              "    <tr>\n",
              "      <th>2</th>\n",
              "      <td>0.019057</td>\n",
              "    </tr>\n",
              "    <tr>\n",
              "      <th>3</th>\n",
              "      <td>0.074629</td>\n",
              "    </tr>\n",
              "    <tr>\n",
              "      <th>4</th>\n",
              "      <td>0.285385</td>\n",
              "    </tr>\n",
              "    <tr>\n",
              "      <th>...</th>\n",
              "      <td>...</td>\n",
              "    </tr>\n",
              "    <tr>\n",
              "      <th>136075</th>\n",
              "      <td>0.193705</td>\n",
              "    </tr>\n",
              "    <tr>\n",
              "      <th>136076</th>\n",
              "      <td>0.253223</td>\n",
              "    </tr>\n",
              "    <tr>\n",
              "      <th>136077</th>\n",
              "      <td>0.253223</td>\n",
              "    </tr>\n",
              "    <tr>\n",
              "      <th>136078</th>\n",
              "      <td>0.253223</td>\n",
              "    </tr>\n",
              "    <tr>\n",
              "      <th>136079</th>\n",
              "      <td>0.215382</td>\n",
              "    </tr>\n",
              "  </tbody>\n",
              "</table>\n",
              "<p>136080 rows × 1 columns</p>\n",
              "</div>"
            ],
            "text/plain": [
              "               0\n",
              "0       0.031364\n",
              "1       0.016210\n",
              "2       0.019057\n",
              "3       0.074629\n",
              "4       0.285385\n",
              "...          ...\n",
              "136075  0.193705\n",
              "136076  0.253223\n",
              "136077  0.253223\n",
              "136078  0.253223\n",
              "136079  0.215382\n",
              "\n",
              "[136080 rows x 1 columns]"
            ]
          },
          "execution_count": 18,
          "metadata": {},
          "output_type": "execute_result"
        }
      ],
      "source": [
        "data2= pd.read_csv(r'output/hog_negative.csv',header=None,dtype='float64')\n",
        "data2=data2.astype(np.float64)\n",
        "data2"
      ]
    },
    {
      "cell_type": "code",
      "execution_count": 19,
      "metadata": {},
      "outputs": [
        {
          "data": {
            "image/png": "[encoded data removed]",
            "text/plain": [
              "<Figure size 800x400 with 2 Axes>"
            ]
          },
          "metadata": {},
          "output_type": "display_data"
        }
      ],
      "source": [
        "import cv2\n",
        "import numpy as np\n",
        "import matplotlib.pyplot as plt\n",
        "from skimage.feature import hog\n",
        "\n",
        "# Load the image\n",
        "image = cv2.imread(path)\n",
        "\n",
        "#resize image\n",
        "resize=(128, 64)\n",
        "img=cv2.resize(image, resize)\n",
        "\n",
        "gray = cv2.cvtColor(img, cv2.COLOR_BGR2GRAY)\n",
        "img2= cv2.GaussianBlur(gray,(3, 3),0)#gaussian Image\n",
        "\n",
        "img_prewittx = cv2.filter2D(img2, -1, kernelx)#Horizontal\n",
        "img_prewitty = cv2.filter2D(img2, -1, kernely)#Vertical\n",
        "img_prewitt = img_prewittx + img_prewitty\n",
        "\n",
        "# Calculate HOG features\n",
        "hog_descriptor, hog_image = hog(img_prewitt, orientations=9, pixels_per_cell=(16, 16), cells_per_block=(2, 2), visualize=True)\n",
        "\n",
        "# Plot the original image\n",
        "plt.figure(figsize=(8, 4))\n",
        "plt.subplot(1, 2, 1)\n",
        "plt.imshow(cv2.cvtColor(img, cv2.COLOR_BGR2RGB))\n",
        "plt.title('Original Image')\n",
        "\n",
        "# Plot the HOG features\n",
        "plt.subplot(1, 2, 2)\n",
        "plt.imshow(hog_image, cmap='gray')\n",
        "plt.title('HOG Features')\n",
        "plt.show()\n"
      ]
    },
    {
      "cell_type": "code",
      "execution_count": 21,
      "metadata": {
        "id": "YVHOwr0iZ1OP"
      },
      "outputs": [],
      "source": [
        "# data=data1.append(data2)\n",
        "import pandas as pd\n",
        "data = pd.concat([data1, data2], ignore_index=True)  # Combine vertically\n"
      ]
    },
    {
      "cell_type": "code",
      "execution_count": 22,
      "metadata": {
        "id": "btiLFiGeZ1OP"
      },
      "outputs": [],
      "source": [
        "csv_data=data.to_csv(r'output/Hog_Final.csv', mode='a', header=False,index=False)"
      ]
    },
    {
      "cell_type": "code",
      "execution_count": 24,
      "metadata": {
        "id": "4znhB8lWZ1OQ"
      },
      "outputs": [
        {
          "data": {
            "text/html": [
              "<div>\n",
              "<style scoped>\n",
              "    .dataframe tbody tr th:only-of-type {\n",
              "        vertical-align: middle;\n",
              "    }\n",
              "\n",
              "    .dataframe tbody tr th {\n",
              "        vertical-align: top;\n",
              "    }\n",
              "\n",
              "    .dataframe thead th {\n",
              "        text-align: right;\n",
              "    }\n",
              "</style>\n",
              "<table border=\"1\" class=\"dataframe\">\n",
              "  <thead>\n",
              "    <tr style=\"text-align: right;\">\n",
              "      <th></th>\n",
              "      <th>0</th>\n",
              "    </tr>\n",
              "  </thead>\n",
              "  <tbody>\n",
              "    <tr>\n",
              "      <th>0</th>\n",
              "      <td>0.318667</td>\n",
              "    </tr>\n",
              "    <tr>\n",
              "      <th>1</th>\n",
              "      <td>0.099782</td>\n",
              "    </tr>\n",
              "    <tr>\n",
              "      <th>2</th>\n",
              "      <td>0.036944</td>\n",
              "    </tr>\n",
              "    <tr>\n",
              "      <th>3</th>\n",
              "      <td>0.012675</td>\n",
              "    </tr>\n",
              "    <tr>\n",
              "      <th>4</th>\n",
              "      <td>0.027983</td>\n",
              "    </tr>\n",
              "    <tr>\n",
              "      <th>...</th>\n",
              "      <td>...</td>\n",
              "    </tr>\n",
              "    <tr>\n",
              "      <th>207895</th>\n",
              "      <td>0.193705</td>\n",
              "    </tr>\n",
              "    <tr>\n",
              "      <th>207896</th>\n",
              "      <td>0.253223</td>\n",
              "    </tr>\n",
              "    <tr>\n",
              "      <th>207897</th>\n",
              "      <td>0.253223</td>\n",
              "    </tr>\n",
              "    <tr>\n",
              "      <th>207898</th>\n",
              "      <td>0.253223</td>\n",
              "    </tr>\n",
              "    <tr>\n",
              "      <th>207899</th>\n",
              "      <td>0.215382</td>\n",
              "    </tr>\n",
              "  </tbody>\n",
              "</table>\n",
              "<p>207900 rows × 1 columns</p>\n",
              "</div>"
            ],
            "text/plain": [
              "               0\n",
              "0       0.318667\n",
              "1       0.099782\n",
              "2       0.036944\n",
              "3       0.012675\n",
              "4       0.027983\n",
              "...          ...\n",
              "207895  0.193705\n",
              "207896  0.253223\n",
              "207897  0.253223\n",
              "207898  0.253223\n",
              "207899  0.215382\n",
              "\n",
              "[207900 rows x 1 columns]"
            ]
          },
          "execution_count": 24,
          "metadata": {},
          "output_type": "execute_result"
        }
      ],
      "source": [
        "data= pd.read_csv(r'output\\Hog_Final.csv',header=None,dtype='float64')\n",
        "data=data.astype(np.float64)\n",
        "data"
      ]
    },
    {
      "cell_type": "code",
      "execution_count": 25,
      "metadata": {
        "id": "x3HpSJCpZ1OQ"
      },
      "outputs": [
        {
          "name": "stdout",
          "output_type": "stream",
          "text": [
            "3 :  174.0732510939713\n",
            "5 :  76.16186751806919\n",
            "7 :  42.67010344483518\n",
            "9 :  27.061944200833224\n"
          ]
        }
      ],
      "source": [
        "wcss = []\n",
        "clus=[]\n",
        "j=0\n",
        "for i in range(3, 10, 2):\n",
        "   kmeans_hog = KMeans(n_clusters = i, init = 'k-means++', random_state = 0)\n",
        "   kmeans_hog.fit(data)\n",
        "   wcss.append(kmeans_hog.inertia_)\n",
        "   clus.append(i)\n",
        "   print(i,\": \",wcss[j])\n",
        "   j+=1"
      ]
    },
    {
      "cell_type": "code",
      "execution_count": 26,
      "metadata": {
        "id": "mry2Vu9bZ1OQ"
      },
      "outputs": [
        {
          "data": {
            "image/png": "[encoded data removed]",
            "text/plain": [
              "<Figure size 640x480 with 1 Axes>"
            ]
          },
          "metadata": {},
          "output_type": "display_data"
        }
      ],
      "source": [
        "plt.plot(range(3, 10, 2), wcss)\n",
        "plt.xlabel('Number of clusters')\n",
        "plt.ylabel('WCSS')\n",
        "plt.show()"
      ]
    },
    {
      "cell_type": "code",
      "execution_count": 27,
      "metadata": {
        "id": "9Jg0ZoZgHY9E"
      },
      "outputs": [
        {
          "ename": "ValueError",
          "evalue": "x and y must have same first dimension, but have shapes (10,) and (4,)",
          "output_type": "error",
          "traceback": [
            "\u001b[1;31m---------------------------------------------------------------------------\u001b[0m",
            "\u001b[1;31mValueError\u001b[0m                                Traceback (most recent call last)",
            "Cell \u001b[1;32mIn[27], line 1\u001b[0m\n\u001b[1;32m----> 1\u001b[0m \u001b[43mplt\u001b[49m\u001b[38;5;241;43m.\u001b[39;49m\u001b[43mplot\u001b[49m\u001b[43m(\u001b[49m\u001b[38;5;28;43mrange\u001b[39;49m\u001b[43m(\u001b[49m\u001b[38;5;241;43m3\u001b[39;49m\u001b[43m,\u001b[49m\u001b[43m \u001b[49m\u001b[38;5;241;43m23\u001b[39;49m\u001b[43m,\u001b[49m\u001b[43m \u001b[49m\u001b[38;5;241;43m2\u001b[39;49m\u001b[43m)\u001b[49m\u001b[43m,\u001b[49m\u001b[43m \u001b[49m\u001b[43mwcss\u001b[49m\u001b[43m)\u001b[49m\n\u001b[0;32m      2\u001b[0m plt\u001b[38;5;241m.\u001b[39mxlabel(\u001b[38;5;124m'\u001b[39m\u001b[38;5;124mNumber of clusters\u001b[39m\u001b[38;5;124m'\u001b[39m)\n\u001b[0;32m      3\u001b[0m plt\u001b[38;5;241m.\u001b[39mylabel(\u001b[38;5;124m'\u001b[39m\u001b[38;5;124mWCSS\u001b[39m\u001b[38;5;124m'\u001b[39m)\n",
            "File \u001b[1;32mc:\\Users\\hpary\\AppData\\Local\\Programs\\Python\\Python311\\Lib\\site-packages\\matplotlib\\pyplot.py:2812\u001b[0m, in \u001b[0;36mplot\u001b[1;34m(scalex, scaley, data, *args, **kwargs)\u001b[0m\n\u001b[0;32m   2810\u001b[0m \u001b[38;5;129m@_copy_docstring_and_deprecators\u001b[39m(Axes\u001b[38;5;241m.\u001b[39mplot)\n\u001b[0;32m   2811\u001b[0m \u001b[38;5;28;01mdef\u001b[39;00m \u001b[38;5;21mplot\u001b[39m(\u001b[38;5;241m*\u001b[39margs, scalex\u001b[38;5;241m=\u001b[39m\u001b[38;5;28;01mTrue\u001b[39;00m, scaley\u001b[38;5;241m=\u001b[39m\u001b[38;5;28;01mTrue\u001b[39;00m, data\u001b[38;5;241m=\u001b[39m\u001b[38;5;28;01mNone\u001b[39;00m, \u001b[38;5;241m*\u001b[39m\u001b[38;5;241m*\u001b[39mkwargs):\n\u001b[1;32m-> 2812\u001b[0m     \u001b[38;5;28;01mreturn\u001b[39;00m \u001b[43mgca\u001b[49m\u001b[43m(\u001b[49m\u001b[43m)\u001b[49m\u001b[38;5;241;43m.\u001b[39;49m\u001b[43mplot\u001b[49m\u001b[43m(\u001b[49m\n\u001b[0;32m   2813\u001b[0m \u001b[43m        \u001b[49m\u001b[38;5;241;43m*\u001b[39;49m\u001b[43margs\u001b[49m\u001b[43m,\u001b[49m\u001b[43m \u001b[49m\u001b[43mscalex\u001b[49m\u001b[38;5;241;43m=\u001b[39;49m\u001b[43mscalex\u001b[49m\u001b[43m,\u001b[49m\u001b[43m \u001b[49m\u001b[43mscaley\u001b[49m\u001b[38;5;241;43m=\u001b[39;49m\u001b[43mscaley\u001b[49m\u001b[43m,\u001b[49m\n\u001b[0;32m   2814\u001b[0m \u001b[43m        \u001b[49m\u001b[38;5;241;43m*\u001b[39;49m\u001b[38;5;241;43m*\u001b[39;49m\u001b[43m(\u001b[49m\u001b[43m{\u001b[49m\u001b[38;5;124;43m\"\u001b[39;49m\u001b[38;5;124;43mdata\u001b[39;49m\u001b[38;5;124;43m\"\u001b[39;49m\u001b[43m:\u001b[49m\u001b[43m \u001b[49m\u001b[43mdata\u001b[49m\u001b[43m}\u001b[49m\u001b[43m \u001b[49m\u001b[38;5;28;43;01mif\u001b[39;49;00m\u001b[43m \u001b[49m\u001b[43mdata\u001b[49m\u001b[43m \u001b[49m\u001b[38;5;129;43;01mis\u001b[39;49;00m\u001b[43m \u001b[49m\u001b[38;5;129;43;01mnot\u001b[39;49;00m\u001b[43m \u001b[49m\u001b[38;5;28;43;01mNone\u001b[39;49;00m\u001b[43m \u001b[49m\u001b[38;5;28;43;01melse\u001b[39;49;00m\u001b[43m \u001b[49m\u001b[43m{\u001b[49m\u001b[43m}\u001b[49m\u001b[43m)\u001b[49m\u001b[43m,\u001b[49m\u001b[43m \u001b[49m\u001b[38;5;241;43m*\u001b[39;49m\u001b[38;5;241;43m*\u001b[39;49m\u001b[43mkwargs\u001b[49m\u001b[43m)\u001b[49m\n",
            "File \u001b[1;32mc:\\Users\\hpary\\AppData\\Local\\Programs\\Python\\Python311\\Lib\\site-packages\\matplotlib\\axes\\_axes.py:1688\u001b[0m, in \u001b[0;36mAxes.plot\u001b[1;34m(self, scalex, scaley, data, *args, **kwargs)\u001b[0m\n\u001b[0;32m   1445\u001b[0m \u001b[38;5;250m\u001b[39m\u001b[38;5;124;03m\"\"\"\u001b[39;00m\n\u001b[0;32m   1446\u001b[0m \u001b[38;5;124;03mPlot y versus x as lines and/or markers.\u001b[39;00m\n\u001b[0;32m   1447\u001b[0m \n\u001b[1;32m   (...)\u001b[0m\n\u001b[0;32m   1685\u001b[0m \u001b[38;5;124;03m(``'green'``) or hex strings (``'#008000'``).\u001b[39;00m\n\u001b[0;32m   1686\u001b[0m \u001b[38;5;124;03m\"\"\"\u001b[39;00m\n\u001b[0;32m   1687\u001b[0m kwargs \u001b[38;5;241m=\u001b[39m cbook\u001b[38;5;241m.\u001b[39mnormalize_kwargs(kwargs, mlines\u001b[38;5;241m.\u001b[39mLine2D)\n\u001b[1;32m-> 1688\u001b[0m lines \u001b[38;5;241m=\u001b[39m [\u001b[38;5;241m*\u001b[39m\u001b[38;5;28mself\u001b[39m\u001b[38;5;241m.\u001b[39m_get_lines(\u001b[38;5;241m*\u001b[39margs, data\u001b[38;5;241m=\u001b[39mdata, \u001b[38;5;241m*\u001b[39m\u001b[38;5;241m*\u001b[39mkwargs)]\n\u001b[0;32m   1689\u001b[0m \u001b[38;5;28;01mfor\u001b[39;00m line \u001b[38;5;129;01min\u001b[39;00m lines:\n\u001b[0;32m   1690\u001b[0m     \u001b[38;5;28mself\u001b[39m\u001b[38;5;241m.\u001b[39madd_line(line)\n",
            "File \u001b[1;32mc:\\Users\\hpary\\AppData\\Local\\Programs\\Python\\Python311\\Lib\\site-packages\\matplotlib\\axes\\_base.py:311\u001b[0m, in \u001b[0;36m_process_plot_var_args.__call__\u001b[1;34m(self, data, *args, **kwargs)\u001b[0m\n\u001b[0;32m    309\u001b[0m     this \u001b[38;5;241m+\u001b[39m\u001b[38;5;241m=\u001b[39m args[\u001b[38;5;241m0\u001b[39m],\n\u001b[0;32m    310\u001b[0m     args \u001b[38;5;241m=\u001b[39m args[\u001b[38;5;241m1\u001b[39m:]\n\u001b[1;32m--> 311\u001b[0m \u001b[38;5;28;01myield from\u001b[39;00m \u001b[38;5;28;43mself\u001b[39;49m\u001b[38;5;241;43m.\u001b[39;49m\u001b[43m_plot_args\u001b[49m\u001b[43m(\u001b[49m\n\u001b[0;32m    312\u001b[0m \u001b[43m    \u001b[49m\u001b[43mthis\u001b[49m\u001b[43m,\u001b[49m\u001b[43m \u001b[49m\u001b[43mkwargs\u001b[49m\u001b[43m,\u001b[49m\u001b[43m \u001b[49m\u001b[43mambiguous_fmt_datakey\u001b[49m\u001b[38;5;241;43m=\u001b[39;49m\u001b[43mambiguous_fmt_datakey\u001b[49m\u001b[43m)\u001b[49m\n",
            "File \u001b[1;32mc:\\Users\\hpary\\AppData\\Local\\Programs\\Python\\Python311\\Lib\\site-packages\\matplotlib\\axes\\_base.py:504\u001b[0m, in \u001b[0;36m_process_plot_var_args._plot_args\u001b[1;34m(self, tup, kwargs, return_kwargs, ambiguous_fmt_datakey)\u001b[0m\n\u001b[0;32m    501\u001b[0m     \u001b[38;5;28mself\u001b[39m\u001b[38;5;241m.\u001b[39maxes\u001b[38;5;241m.\u001b[39myaxis\u001b[38;5;241m.\u001b[39mupdate_units(y)\n\u001b[0;32m    503\u001b[0m \u001b[38;5;28;01mif\u001b[39;00m x\u001b[38;5;241m.\u001b[39mshape[\u001b[38;5;241m0\u001b[39m] \u001b[38;5;241m!=\u001b[39m y\u001b[38;5;241m.\u001b[39mshape[\u001b[38;5;241m0\u001b[39m]:\n\u001b[1;32m--> 504\u001b[0m     \u001b[38;5;28;01mraise\u001b[39;00m \u001b[38;5;167;01mValueError\u001b[39;00m(\u001b[38;5;124mf\u001b[39m\u001b[38;5;124m\"\u001b[39m\u001b[38;5;124mx and y must have same first dimension, but \u001b[39m\u001b[38;5;124m\"\u001b[39m\n\u001b[0;32m    505\u001b[0m                      \u001b[38;5;124mf\u001b[39m\u001b[38;5;124m\"\u001b[39m\u001b[38;5;124mhave shapes \u001b[39m\u001b[38;5;132;01m{\u001b[39;00mx\u001b[38;5;241m.\u001b[39mshape\u001b[38;5;132;01m}\u001b[39;00m\u001b[38;5;124m and \u001b[39m\u001b[38;5;132;01m{\u001b[39;00my\u001b[38;5;241m.\u001b[39mshape\u001b[38;5;132;01m}\u001b[39;00m\u001b[38;5;124m\"\u001b[39m)\n\u001b[0;32m    506\u001b[0m \u001b[38;5;28;01mif\u001b[39;00m x\u001b[38;5;241m.\u001b[39mndim \u001b[38;5;241m>\u001b[39m \u001b[38;5;241m2\u001b[39m \u001b[38;5;129;01mor\u001b[39;00m y\u001b[38;5;241m.\u001b[39mndim \u001b[38;5;241m>\u001b[39m \u001b[38;5;241m2\u001b[39m:\n\u001b[0;32m    507\u001b[0m     \u001b[38;5;28;01mraise\u001b[39;00m \u001b[38;5;167;01mValueError\u001b[39;00m(\u001b[38;5;124mf\u001b[39m\u001b[38;5;124m\"\u001b[39m\u001b[38;5;124mx and y can be no greater than 2D, but have \u001b[39m\u001b[38;5;124m\"\u001b[39m\n\u001b[0;32m    508\u001b[0m                      \u001b[38;5;124mf\u001b[39m\u001b[38;5;124m\"\u001b[39m\u001b[38;5;124mshapes \u001b[39m\u001b[38;5;132;01m{\u001b[39;00mx\u001b[38;5;241m.\u001b[39mshape\u001b[38;5;132;01m}\u001b[39;00m\u001b[38;5;124m and \u001b[39m\u001b[38;5;132;01m{\u001b[39;00my\u001b[38;5;241m.\u001b[39mshape\u001b[38;5;132;01m}\u001b[39;00m\u001b[38;5;124m\"\u001b[39m)\n",
            "\u001b[1;31mValueError\u001b[0m: x and y must have same first dimension, but have shapes (10,) and (4,)"
          ]
        },
        {
          "data": {
            "image/png": "[encoded data removed]",
            "text/plain": [
              "<Figure size 640x480 with 1 Axes>"
            ]
          },
          "metadata": {},
          "output_type": "display_data"
        }
      ],
      "source": [
        "plt.plot(range(3, 23, 2), wcss)\n",
        "plt.xlabel('Number of clusters')\n",
        "plt.ylabel('WCSS')\n",
        "plt.show()"
      ]
    },
    {
      "cell_type": "code",
      "execution_count": null,
      "metadata": {
        "colab": {
          "base_uri": "https://localhost:8080/"
        },
        "id": "ebViLbAVHY9F",
        "outputId": "1a639ecd-ced6-4043-9cb4-baa4294b55da"
      },
      "outputs": [
        {
          "data": {
            "text/plain": [
              "KMeans(n_clusters=15, random_state=0)"
            ]
          },
          "execution_count": 38,
          "metadata": {},
          "output_type": "execute_result"
        }
      ],
      "source": [
        "kmeans_hog = KMeans(n_clusters=15, random_state= 0)\n",
        "kmeans_hog.fit(data)"
      ]
    },
    {
      "cell_type": "code",
      "execution_count": null,
      "metadata": {
        "id": "LicoaoCfHY9G"
      },
      "outputs": [],
      "source": [
        "#kmeans_hog.inertia_"
      ]
    },
    {
      "cell_type": "code",
      "execution_count": null,
      "metadata": {
        "id": "vOnNasT5HY9H"
      },
      "outputs": [],
      "source": [
        "import pickle"
      ]
    },
    {
      "cell_type": "code",
      "execution_count": null,
      "metadata": {
        "id": "6llIPFhJHY9I"
      },
      "outputs": [],
      "source": [
        "# save the model to disk\n",
        "filename = '/content/drive/MyDrive/Colab Notebooks/Kmeans_CL_15_HOG_Model.sav'\n",
        "pickle.dump(kmeans_hog, open(filename, 'wb'))"
      ]
    },
    {
      "cell_type": "code",
      "execution_count": null,
      "metadata": {
        "colab": {
          "base_uri": "https://localhost:8080/"
        },
        "id": "OXolSH_6HY9I",
        "outputId": "68aa9853-bc00-4f2d-9080-23324c26a323"
      },
      "outputs": [
        {
          "name": "stdout",
          "output_type": "stream",
          "text": [
            "histogram of trained kmeans\n",
            "(array([ 71357, 133345,  96721,  59546,  97578,  68387,  25517,  61092,\n",
            "       113430,  97909,  82544, 119231,   6143,  63569, 127163]), array([ 0,  1,  2,  3,  4,  5,  6,  7,  8,  9, 10, 11, 12, 13, 14, 15])) \n",
            "\n"
          ]
        }
      ],
      "source": [
        "hist=np.histogram(kmeans_hog.labels_,bins=[0,1,2,3,4,5,6,7,8,9,10,11,12,13,14,15])\n",
        "\n",
        "\n",
        "print('histogram of trained kmeans')\n",
        "print(hist,\"\\n\")"
      ]
    },
    {
      "cell_type": "code",
      "execution_count": null,
      "metadata": {
        "id": "GScuEjX8HY9J"
      },
      "outputs": [],
      "source": [
        "#folder1=r\"D:/StrData/Str\"\n",
        "#folder2=r\"D:\\StrData\\Nstr\"\n",
        "#from sklearn.preprocessing import Normalizer\n",
        "filename2 = '/content/drive/MyDrive/Colab Notebooks/Kmeans_CL_15_HOG_Model.sav'\n",
        "kmeans_hog = pickle.load(open(filename2, 'rb'))\n"
      ]
    },
    {
      "cell_type": "markdown",
      "metadata": {
        "id": "mU_ZGdM6HY9q"
      },
      "source": [
        "# Training ,Testing & Classification"
      ]
    },
    {
      "cell_type": "code",
      "execution_count": null,
      "metadata": {
        "colab": {
          "base_uri": "https://localhost:8080/",
          "height": 423
        },
        "id": "tDyQSm-xHY9q",
        "outputId": "5cd46b06-0184-4dfa-f2fe-3a6d063cfbf6"
      },
      "outputs": [
        {
          "data": {
            "text/html": [
              "\n",
              "  <div id=\"df-7bccbd3f-8a3c-4f89-9f88-26863742a63e\">\n",
              "    <div class=\"colab-df-container\">\n",
              "      <div>\n",
              "<style scoped>\n",
              "    .dataframe tbody tr th:only-of-type {\n",
              "        vertical-align: middle;\n",
              "    }\n",
              "\n",
              "    .dataframe tbody tr th {\n",
              "        vertical-align: top;\n",
              "    }\n",
              "\n",
              "    .dataframe thead th {\n",
              "        text-align: right;\n",
              "    }\n",
              "</style>\n",
              "<table border=\"1\" class=\"dataframe\">\n",
              "  <thead>\n",
              "    <tr style=\"text-align: right;\">\n",
              "      <th></th>\n",
              "      <th>0</th>\n",
              "      <th>1</th>\n",
              "      <th>2</th>\n",
              "      <th>3</th>\n",
              "      <th>4</th>\n",
              "      <th>5</th>\n",
              "      <th>6</th>\n",
              "      <th>7</th>\n",
              "      <th>8</th>\n",
              "      <th>9</th>\n",
              "      <th>...</th>\n",
              "      <th>18</th>\n",
              "      <th>19</th>\n",
              "      <th>20</th>\n",
              "      <th>21</th>\n",
              "      <th>22</th>\n",
              "      <th>23</th>\n",
              "      <th>24</th>\n",
              "      <th>25</th>\n",
              "      <th>26</th>\n",
              "      <th>27</th>\n",
              "    </tr>\n",
              "  </thead>\n",
              "  <tbody>\n",
              "    <tr>\n",
              "      <th>0</th>\n",
              "      <td>-0.145547</td>\n",
              "      <td>-0.057869</td>\n",
              "      <td>0.016348</td>\n",
              "      <td>-0.024295</td>\n",
              "      <td>0.116402</td>\n",
              "      <td>-0.028196</td>\n",
              "      <td>0.024867</td>\n",
              "      <td>-0.013303</td>\n",
              "      <td>-0.016035</td>\n",
              "      <td>0.036206</td>\n",
              "      <td>...</td>\n",
              "      <td>0.025715</td>\n",
              "      <td>-0.010219</td>\n",
              "      <td>0.007133</td>\n",
              "      <td>-0.007419</td>\n",
              "      <td>0.017970</td>\n",
              "      <td>-0.007061</td>\n",
              "      <td>-0.006962</td>\n",
              "      <td>0.008638</td>\n",
              "      <td>-0.010675</td>\n",
              "      <td>0</td>\n",
              "    </tr>\n",
              "    <tr>\n",
              "      <th>1</th>\n",
              "      <td>-0.115639</td>\n",
              "      <td>-0.056552</td>\n",
              "      <td>0.041447</td>\n",
              "      <td>0.000271</td>\n",
              "      <td>0.060353</td>\n",
              "      <td>-0.035269</td>\n",
              "      <td>0.009068</td>\n",
              "      <td>-0.009756</td>\n",
              "      <td>-0.027834</td>\n",
              "      <td>0.000849</td>\n",
              "      <td>...</td>\n",
              "      <td>0.007413</td>\n",
              "      <td>-0.043074</td>\n",
              "      <td>-0.005094</td>\n",
              "      <td>0.020154</td>\n",
              "      <td>-0.012466</td>\n",
              "      <td>-0.008250</td>\n",
              "      <td>-0.026498</td>\n",
              "      <td>0.009055</td>\n",
              "      <td>-0.010346</td>\n",
              "      <td>0</td>\n",
              "    </tr>\n",
              "    <tr>\n",
              "      <th>2</th>\n",
              "      <td>-0.114857</td>\n",
              "      <td>-0.053884</td>\n",
              "      <td>-0.037216</td>\n",
              "      <td>-0.038191</td>\n",
              "      <td>-0.002354</td>\n",
              "      <td>-0.050284</td>\n",
              "      <td>-0.027002</td>\n",
              "      <td>0.045697</td>\n",
              "      <td>-0.067747</td>\n",
              "      <td>-0.027469</td>\n",
              "      <td>...</td>\n",
              "      <td>0.028841</td>\n",
              "      <td>-0.040946</td>\n",
              "      <td>0.008318</td>\n",
              "      <td>-0.000395</td>\n",
              "      <td>0.017426</td>\n",
              "      <td>-0.010496</td>\n",
              "      <td>-0.016801</td>\n",
              "      <td>-0.004286</td>\n",
              "      <td>-0.022676</td>\n",
              "      <td>0</td>\n",
              "    </tr>\n",
              "    <tr>\n",
              "      <th>3</th>\n",
              "      <td>-0.098354</td>\n",
              "      <td>-0.092104</td>\n",
              "      <td>0.009216</td>\n",
              "      <td>-0.021570</td>\n",
              "      <td>0.021361</td>\n",
              "      <td>-0.042655</td>\n",
              "      <td>0.058744</td>\n",
              "      <td>0.001973</td>\n",
              "      <td>-0.069565</td>\n",
              "      <td>0.032064</td>\n",
              "      <td>...</td>\n",
              "      <td>-0.011212</td>\n",
              "      <td>-0.026946</td>\n",
              "      <td>-0.006799</td>\n",
              "      <td>0.005865</td>\n",
              "      <td>-0.014270</td>\n",
              "      <td>-0.027486</td>\n",
              "      <td>-0.016843</td>\n",
              "      <td>0.014328</td>\n",
              "      <td>0.010695</td>\n",
              "      <td>0</td>\n",
              "    </tr>\n",
              "    <tr>\n",
              "      <th>4</th>\n",
              "      <td>-0.115755</td>\n",
              "      <td>-0.050824</td>\n",
              "      <td>0.051047</td>\n",
              "      <td>-0.002826</td>\n",
              "      <td>0.077547</td>\n",
              "      <td>-0.047789</td>\n",
              "      <td>0.022950</td>\n",
              "      <td>-0.002401</td>\n",
              "      <td>-0.031170</td>\n",
              "      <td>0.033295</td>\n",
              "      <td>...</td>\n",
              "      <td>0.011240</td>\n",
              "      <td>-0.006784</td>\n",
              "      <td>0.021771</td>\n",
              "      <td>-0.009327</td>\n",
              "      <td>0.022148</td>\n",
              "      <td>-0.028901</td>\n",
              "      <td>-0.032458</td>\n",
              "      <td>0.021247</td>\n",
              "      <td>0.004857</td>\n",
              "      <td>0</td>\n",
              "    </tr>\n",
              "    <tr>\n",
              "      <th>...</th>\n",
              "      <td>...</td>\n",
              "      <td>...</td>\n",
              "      <td>...</td>\n",
              "      <td>...</td>\n",
              "      <td>...</td>\n",
              "      <td>...</td>\n",
              "      <td>...</td>\n",
              "      <td>...</td>\n",
              "      <td>...</td>\n",
              "      <td>...</td>\n",
              "      <td>...</td>\n",
              "      <td>...</td>\n",
              "      <td>...</td>\n",
              "      <td>...</td>\n",
              "      <td>...</td>\n",
              "      <td>...</td>\n",
              "      <td>...</td>\n",
              "      <td>...</td>\n",
              "      <td>...</td>\n",
              "      <td>...</td>\n",
              "      <td>...</td>\n",
              "    </tr>\n",
              "    <tr>\n",
              "      <th>11324</th>\n",
              "      <td>0.070051</td>\n",
              "      <td>-0.001003</td>\n",
              "      <td>0.044423</td>\n",
              "      <td>-0.052612</td>\n",
              "      <td>0.030983</td>\n",
              "      <td>0.027020</td>\n",
              "      <td>0.023744</td>\n",
              "      <td>0.003720</td>\n",
              "      <td>-0.072507</td>\n",
              "      <td>-0.002377</td>\n",
              "      <td>...</td>\n",
              "      <td>-0.016641</td>\n",
              "      <td>-0.019355</td>\n",
              "      <td>-0.000374</td>\n",
              "      <td>-0.042269</td>\n",
              "      <td>-0.005646</td>\n",
              "      <td>-0.019359</td>\n",
              "      <td>-0.015728</td>\n",
              "      <td>0.001887</td>\n",
              "      <td>-0.002825</td>\n",
              "      <td>1</td>\n",
              "    </tr>\n",
              "    <tr>\n",
              "      <th>11325</th>\n",
              "      <td>-0.004429</td>\n",
              "      <td>-0.118285</td>\n",
              "      <td>-0.001649</td>\n",
              "      <td>-0.031041</td>\n",
              "      <td>0.090958</td>\n",
              "      <td>0.013757</td>\n",
              "      <td>0.023236</td>\n",
              "      <td>-0.050646</td>\n",
              "      <td>-0.019287</td>\n",
              "      <td>-0.036848</td>\n",
              "      <td>...</td>\n",
              "      <td>0.002376</td>\n",
              "      <td>-0.003488</td>\n",
              "      <td>0.025687</td>\n",
              "      <td>-0.026069</td>\n",
              "      <td>-0.012677</td>\n",
              "      <td>-0.027542</td>\n",
              "      <td>-0.014326</td>\n",
              "      <td>-0.014990</td>\n",
              "      <td>-0.008672</td>\n",
              "      <td>1</td>\n",
              "    </tr>\n",
              "    <tr>\n",
              "      <th>11326</th>\n",
              "      <td>0.051346</td>\n",
              "      <td>-0.054626</td>\n",
              "      <td>-0.029596</td>\n",
              "      <td>-0.052890</td>\n",
              "      <td>0.040402</td>\n",
              "      <td>-0.017995</td>\n",
              "      <td>0.001041</td>\n",
              "      <td>0.034696</td>\n",
              "      <td>-0.110814</td>\n",
              "      <td>-0.065152</td>\n",
              "      <td>...</td>\n",
              "      <td>0.015301</td>\n",
              "      <td>-0.003338</td>\n",
              "      <td>0.016290</td>\n",
              "      <td>-0.004141</td>\n",
              "      <td>-0.004257</td>\n",
              "      <td>-0.007783</td>\n",
              "      <td>0.014785</td>\n",
              "      <td>0.003657</td>\n",
              "      <td>0.027914</td>\n",
              "      <td>1</td>\n",
              "    </tr>\n",
              "    <tr>\n",
              "      <th>11327</th>\n",
              "      <td>-0.038242</td>\n",
              "      <td>-0.030308</td>\n",
              "      <td>-0.010952</td>\n",
              "      <td>0.018182</td>\n",
              "      <td>0.062707</td>\n",
              "      <td>0.014500</td>\n",
              "      <td>0.034568</td>\n",
              "      <td>0.075119</td>\n",
              "      <td>-0.092458</td>\n",
              "      <td>-0.032877</td>\n",
              "      <td>...</td>\n",
              "      <td>0.003363</td>\n",
              "      <td>-0.004987</td>\n",
              "      <td>0.002237</td>\n",
              "      <td>-0.048081</td>\n",
              "      <td>0.022284</td>\n",
              "      <td>-0.047038</td>\n",
              "      <td>-0.011092</td>\n",
              "      <td>-0.005374</td>\n",
              "      <td>-0.000176</td>\n",
              "      <td>1</td>\n",
              "    </tr>\n",
              "    <tr>\n",
              "      <th>11328</th>\n",
              "      <td>-0.036153</td>\n",
              "      <td>-0.036065</td>\n",
              "      <td>-0.021110</td>\n",
              "      <td>0.041544</td>\n",
              "      <td>0.069931</td>\n",
              "      <td>-0.010831</td>\n",
              "      <td>0.029030</td>\n",
              "      <td>0.052467</td>\n",
              "      <td>-0.107141</td>\n",
              "      <td>-0.017390</td>\n",
              "      <td>...</td>\n",
              "      <td>0.008707</td>\n",
              "      <td>0.004387</td>\n",
              "      <td>-0.004018</td>\n",
              "      <td>-0.027349</td>\n",
              "      <td>0.020865</td>\n",
              "      <td>-0.052667</td>\n",
              "      <td>-0.037185</td>\n",
              "      <td>-0.000090</td>\n",
              "      <td>0.003924</td>\n",
              "      <td>1</td>\n",
              "    </tr>\n",
              "  </tbody>\n",
              "</table>\n",
              "<p>11329 rows × 28 columns</p>\n",
              "</div>\n",
              "      <button class=\"colab-df-convert\" onclick=\"convertToInteractive('df-7bccbd3f-8a3c-4f89-9f88-26863742a63e')\"\n",
              "              title=\"Convert this dataframe to an interactive table.\"\n",
              "              style=\"display:none;\">\n",
              "        \n",
              "  <svg xmlns=\"http://www.w3.org/2000/svg\" height=\"24px\"viewBox=\"0 0 24 24\"\n",
              "       width=\"24px\">\n",
              "    <path d=\"M0 0h24v24H0V0z\" fill=\"none\"/>\n",
              "    <path d=\"M18.56 5.44l.94 2.06.94-2.06 2.06-.94-2.06-.94-.94-2.06-.94 2.06-2.06.94zm-11 1L8.5 8.5l.94-2.06 2.06-.94-2.06-.94L8.5 2.5l-.94 2.06-2.06.94zm10 10l.94 2.06.94-2.06 2.06-.94-2.06-.94-.94-2.06-.94 2.06-2.06.94z\"/><path d=\"M17.41 7.96l-1.37-1.37c-.4-.4-.92-.59-1.43-.59-.52 0-1.04.2-1.43.59L10.3 9.45l-7.72 7.72c-.78.78-.78 2.05 0 2.83L4 21.41c.39.39.9.59 1.41.59.51 0 1.02-.2 1.41-.59l7.78-7.78 2.81-2.81c.8-.78.8-2.07 0-2.86zM5.41 20L4 18.59l7.72-7.72 1.47 1.35L5.41 20z\"/>\n",
              "  </svg>\n",
              "      </button>\n",
              "      \n",
              "  <style>\n",
              "    .colab-df-container {\n",
              "      display:flex;\n",
              "      flex-wrap:wrap;\n",
              "      gap: 12px;\n",
              "    }\n",
              "\n",
              "    .colab-df-convert {\n",
              "      background-color: #E8F0FE;\n",
              "      border: none;\n",
              "      border-radius: 50%;\n",
              "      cursor: pointer;\n",
              "      display: none;\n",
              "      fill: #1967D2;\n",
              "      height: 32px;\n",
              "      padding: 0 0 0 0;\n",
              "      width: 32px;\n",
              "    }\n",
              "\n",
              "    .colab-df-convert:hover {\n",
              "      background-color: #E2EBFA;\n",
              "      box-shadow: 0px 1px 2px rgba(60, 64, 67, 0.3), 0px 1px 3px 1px rgba(60, 64, 67, 0.15);\n",
              "      fill: #174EA6;\n",
              "    }\n",
              "\n",
              "    [theme=dark] .colab-df-convert {\n",
              "      background-color: #3B4455;\n",
              "      fill: #D2E3FC;\n",
              "    }\n",
              "\n",
              "    [theme=dark] .colab-df-convert:hover {\n",
              "      background-color: #434B5C;\n",
              "      box-shadow: 0px 1px 3px 1px rgba(0, 0, 0, 0.15);\n",
              "      filter: drop-shadow(0px 1px 2px rgba(0, 0, 0, 0.3));\n",
              "      fill: #FFFFFF;\n",
              "    }\n",
              "  </style>\n",
              "\n",
              "      <script>\n",
              "        const buttonEl =\n",
              "          document.querySelector('#df-7bccbd3f-8a3c-4f89-9f88-26863742a63e button.colab-df-convert');\n",
              "        buttonEl.style.display =\n",
              "          google.colab.kernel.accessAllowed ? 'block' : 'none';\n",
              "\n",
              "        async function convertToInteractive(key) {\n",
              "          const element = document.querySelector('#df-7bccbd3f-8a3c-4f89-9f88-26863742a63e');\n",
              "          const dataTable =\n",
              "            await google.colab.kernel.invokeFunction('convertToInteractive',\n",
              "                                                     [key], {});\n",
              "          if (!dataTable) return;\n",
              "\n",
              "          const docLinkHtml = 'Like what you see? Visit the ' +\n",
              "            '<a target=\"_blank\" href=https://colab.research.google.com/notebooks/data_table.ipynb>data table notebook</a>'\n",
              "            + ' to learn more about interactive tables.';\n",
              "          element.innerHTML = '';\n",
              "          dataTable['output_type'] = 'display_data';\n",
              "          await google.colab.output.renderOutput(dataTable, element);\n",
              "          const docLink = document.createElement('div');\n",
              "          docLink.innerHTML = docLinkHtml;\n",
              "          element.appendChild(docLink);\n",
              "        }\n",
              "      </script>\n",
              "    </div>\n",
              "  </div>\n",
              "  "
            ],
            "text/plain": [
              "             0         1         2         3         4         5         6   \\\n",
              "0     -0.145547 -0.057869  0.016348 -0.024295  0.116402 -0.028196  0.024867   \n",
              "1     -0.115639 -0.056552  0.041447  0.000271  0.060353 -0.035269  0.009068   \n",
              "2     -0.114857 -0.053884 -0.037216 -0.038191 -0.002354 -0.050284 -0.027002   \n",
              "3     -0.098354 -0.092104  0.009216 -0.021570  0.021361 -0.042655  0.058744   \n",
              "4     -0.115755 -0.050824  0.051047 -0.002826  0.077547 -0.047789  0.022950   \n",
              "...         ...       ...       ...       ...       ...       ...       ...   \n",
              "11324  0.070051 -0.001003  0.044423 -0.052612  0.030983  0.027020  0.023744   \n",
              "11325 -0.004429 -0.118285 -0.001649 -0.031041  0.090958  0.013757  0.023236   \n",
              "11326  0.051346 -0.054626 -0.029596 -0.052890  0.040402 -0.017995  0.001041   \n",
              "11327 -0.038242 -0.030308 -0.010952  0.018182  0.062707  0.014500  0.034568   \n",
              "11328 -0.036153 -0.036065 -0.021110  0.041544  0.069931 -0.010831  0.029030   \n",
              "\n",
              "             7         8         9   ...        18        19        20  \\\n",
              "0     -0.013303 -0.016035  0.036206  ...  0.025715 -0.010219  0.007133   \n",
              "1     -0.009756 -0.027834  0.000849  ...  0.007413 -0.043074 -0.005094   \n",
              "2      0.045697 -0.067747 -0.027469  ...  0.028841 -0.040946  0.008318   \n",
              "3      0.001973 -0.069565  0.032064  ... -0.011212 -0.026946 -0.006799   \n",
              "4     -0.002401 -0.031170  0.033295  ...  0.011240 -0.006784  0.021771   \n",
              "...         ...       ...       ...  ...       ...       ...       ...   \n",
              "11324  0.003720 -0.072507 -0.002377  ... -0.016641 -0.019355 -0.000374   \n",
              "11325 -0.050646 -0.019287 -0.036848  ...  0.002376 -0.003488  0.025687   \n",
              "11326  0.034696 -0.110814 -0.065152  ...  0.015301 -0.003338  0.016290   \n",
              "11327  0.075119 -0.092458 -0.032877  ...  0.003363 -0.004987  0.002237   \n",
              "11328  0.052467 -0.107141 -0.017390  ...  0.008707  0.004387 -0.004018   \n",
              "\n",
              "             21        22        23        24        25        26  27  \n",
              "0     -0.007419  0.017970 -0.007061 -0.006962  0.008638 -0.010675   0  \n",
              "1      0.020154 -0.012466 -0.008250 -0.026498  0.009055 -0.010346   0  \n",
              "2     -0.000395  0.017426 -0.010496 -0.016801 -0.004286 -0.022676   0  \n",
              "3      0.005865 -0.014270 -0.027486 -0.016843  0.014328  0.010695   0  \n",
              "4     -0.009327  0.022148 -0.028901 -0.032458  0.021247  0.004857   0  \n",
              "...         ...       ...       ...       ...       ...       ...  ..  \n",
              "11324 -0.042269 -0.005646 -0.019359 -0.015728  0.001887 -0.002825   1  \n",
              "11325 -0.026069 -0.012677 -0.027542 -0.014326 -0.014990 -0.008672   1  \n",
              "11326 -0.004141 -0.004257 -0.007783  0.014785  0.003657  0.027914   1  \n",
              "11327 -0.048081  0.022284 -0.047038 -0.011092 -0.005374 -0.000176   1  \n",
              "11328 -0.027349  0.020865 -0.052667 -0.037185 -0.000090  0.003924   1  \n",
              "\n",
              "[11329 rows x 28 columns]"
            ]
          },
          "execution_count": 40,
          "metadata": {},
          "output_type": "execute_result"
        }
      ],
      "source": [
        "data= pd.read_csv(r'/content/drive/MyDrive/Colab Notebooks/HS_Final.csv',header=None)\n",
        "\n",
        "data"
      ]
    },
    {
      "cell_type": "code",
      "execution_count": null,
      "metadata": {
        "colab": {
          "base_uri": "https://localhost:8080/"
        },
        "id": "pGDDtd4jHY9r",
        "outputId": "cb312043-338a-4ea5-80cd-aadfa7fa9114"
      },
      "outputs": [
        {
          "name": "stdout",
          "output_type": "stream",
          "text": [
            "X values\n",
            "[[-1.45546621e-01 -5.78690319e-02  1.63478261e-02 ... -6.96246031e-03\n",
            "   8.63789095e-03 -1.06746440e-02]\n",
            " [-1.15639488e-01 -5.65520354e-02  4.14472346e-02 ... -2.64978061e-02\n",
            "   9.05541042e-03 -1.03457041e-02]\n",
            " [-1.14856642e-01 -5.38843540e-02 -3.72160166e-02 ... -1.68010982e-02\n",
            "  -4.28614590e-03 -2.26756793e-02]\n",
            " ...\n",
            " [ 5.13457343e-02 -5.46255503e-02 -2.95957978e-02 ...  1.47850031e-02\n",
            "   3.65661488e-03  2.79139366e-02]\n",
            " [-3.82423758e-02 -3.03080892e-02 -1.09523737e-02 ... -1.10919375e-02\n",
            "  -5.37444857e-03 -1.76399424e-04]\n",
            " [-3.61527865e-02 -3.60646243e-02 -2.11095103e-02 ... -3.71845345e-02\n",
            "  -8.95617199e-05  3.92362930e-03]]\n",
            "Y values\n",
            "0        0\n",
            "1        0\n",
            "2        0\n",
            "3        0\n",
            "4        0\n",
            "        ..\n",
            "11324    1\n",
            "11325    1\n",
            "11326    1\n",
            "11327    1\n",
            "11328    1\n",
            "Name: 27, Length: 11329, dtype: int64\n"
          ]
        }
      ],
      "source": [
        "#assigning x the columns from 1 to 128 for training\n",
        "x = data.iloc[:,0:27].values\n",
        "print(\"X values\")\n",
        "print(x)\n",
        "\n",
        "#assigning y with the column \"Class\" as target variable\n",
        "y = data.iloc[:,27]\n",
        "print(\"Y values\")\n",
        "print(y)"
      ]
    },
    {
      "cell_type": "code",
      "execution_count": null,
      "metadata": {
        "id": "gbfT60nBHY9s"
      },
      "outputs": [],
      "source": [
        "#Dataset split into train and test with 80% Training and 20% Testing\n",
        "x_train, x_test, y_train, y_test = train_test_split(x, y, test_size=.20, random_state=0)"
      ]
    },
    {
      "cell_type": "code",
      "execution_count": null,
      "metadata": {
        "id": "pT7pj40vHY9s"
      },
      "outputs": [],
      "source": [
        "from sklearn.metrics import confusion_matrix"
      ]
    },
    {
      "cell_type": "markdown",
      "metadata": {
        "id": "rRAT_t7JHY9t"
      },
      "source": [
        "### Classification using 4 classifiers."
      ]
    },
    {
      "cell_type": "code",
      "execution_count": null,
      "metadata": {
        "colab": {
          "base_uri": "https://localhost:8080/",
          "height": 559
        },
        "id": "SEgJ2RrIHY9t",
        "outputId": "aa1dc85f-d1fa-4d98-dfe4-89cb26cf5242"
      },
      "outputs": [
        {
          "name": "stdout",
          "output_type": "stream",
          "text": [
            "Decision Tree Results\n",
            "Train Accuracy: 0.8115414321968443\n",
            "Test Accuracy: 0.6690203000882613\n",
            "Precision Score:  0.7129367327667611\n",
            "Recall Score:  0.6286427976686095\n",
            "True Negative Rate:  0.7145539906103286\n",
            "False Positive Rate:  0.28544600938967135\n",
            "F2 Score:  0.643868326795156\n",
            "F1 Score:  0.668141592920354\n",
            "Confusion Matrix: \n",
            "[[761 304]\n",
            " [446 755]]\n",
            "ROC curve  <sklearn.metrics._plot.roc_curve.RocCurveDisplay object at 0x7f4cc5205410>\n"
          ]
        },
        {
          "name": "stderr",
          "output_type": "stream",
          "text": [
            "/usr/local/lib/python3.7/dist-packages/sklearn/utils/deprecation.py:87: FutureWarning: Function plot_roc_curve is deprecated; Function :func:`plot_roc_curve` is deprecated in 1.0 and will be removed in 1.2. Use one of the class methods: :meth:`sklearn.metric.RocCurveDisplay.from_predictions` or :meth:`sklearn.metric.RocCurveDisplay.from_estimator`.\n",
            "  warnings.warn(msg, category=FutureWarning)\n"
          ]
        },
        {
          "data": {
            "image/png": "[encoded data removed]",
            "text/plain": [
              "<Figure size 432x288 with 1 Axes>"
            ]
          },
          "metadata": {
            "needs_background": "light"
          },
          "output_type": "display_data"
        }
      ],
      "source": [
        "#Decision Tree Classifier\n",
        "model1 = DecisionTreeClassifier(max_depth=9)\n",
        "model1.fit(x_train, y_train)\n",
        "y_pred1 = model1.predict(x_test)\n",
        "CM = confusion_matrix(y_test, y_pred1)\n",
        "TN = CM[0][0]\n",
        "FN = CM[1][0]\n",
        "TP = CM[1][1]\n",
        "FP = CM[0][1]\n",
        "TNR = TN/(TN+FP) # Specificity or true negative rate\n",
        "FPR = FP/(FP+TN) # Fall out\n",
        "print(\"Decision Tree Results\")\n",
        "print(\"Train Accuracy:\",model1.score(x_train, y_train))\n",
        "print(\"Test Accuracy:\",model1.score(x_test, y_test))\n",
        "print(\"Precision Score: \",metrics.precision_score(y_test, y_pred1))\n",
        "print(\"Recall Score: \",metrics.recall_score(y_test, y_pred1)) # true positive rate, Sensitivity\n",
        "print(\"True Negative Rate: \", TNR)\n",
        "print(\"False Positive Rate: \", FPR)\n",
        "print(\"F2 Score: \",metrics.fbeta_score(y_test, y_pred1, beta=2.0))\n",
        "print(\"F1 Score: \",metrics.f1_score(y_test, y_pred1))\n",
        "print(\"Confusion Matrix: \")\n",
        "print(confusion_matrix(y_test, y_pred1))\n",
        "print(\"ROC curve \",metrics.plot_roc_curve(model1,x_test, y_test))\n",
        "filename = 'DT_Model.pkl'\n",
        "pickle.dump(model1, open(filename, 'wb'))"
      ]
    },
    {
      "cell_type": "code",
      "execution_count": null,
      "metadata": {
        "colab": {
          "base_uri": "https://localhost:8080/",
          "height": 559
        },
        "id": "t-Fg9_14HY9u",
        "outputId": "f1d7f62b-b5df-4e4e-d8e4-6ced1e4edbe7"
      },
      "outputs": [
        {
          "name": "stdout",
          "output_type": "stream",
          "text": [
            "Random Forest Clasifier\n",
            "Train Accuracy: 1.0\n",
            "Test Accuracy: 0.7466902030008826\n",
            "Precision Score:  0.7742782152230971\n",
            "Recall Score:  0.7368859283930058\n",
            "True Negative Rate:  0.7577464788732394\n",
            "False Positive Rate:  0.24225352112676057\n",
            "F2 Score:  0.7440726416680679\n",
            "F1 Score:  0.7551194539249148\n",
            "Confusion Matrix: \n",
            "[[807 258]\n",
            " [316 885]]\n",
            "ROC curve  <sklearn.metrics._plot.roc_curve.RocCurveDisplay object at 0x7f4cc51c2610>\n"
          ]
        },
        {
          "name": "stderr",
          "output_type": "stream",
          "text": [
            "/usr/local/lib/python3.7/dist-packages/sklearn/utils/deprecation.py:87: FutureWarning: Function plot_roc_curve is deprecated; Function :func:`plot_roc_curve` is deprecated in 1.0 and will be removed in 1.2. Use one of the class methods: :meth:`sklearn.metric.RocCurveDisplay.from_predictions` or :meth:`sklearn.metric.RocCurveDisplay.from_estimator`.\n",
            "  warnings.warn(msg, category=FutureWarning)\n"
          ]
        },
        {
          "data": {
            "image/png": "[encoded data removed]",
            "text/plain": [
              "<Figure size 432x288 with 1 Axes>"
            ]
          },
          "metadata": {
            "needs_background": "light"
          },
          "output_type": "display_data"
        }
      ],
      "source": [
        "from sklearn.ensemble import RandomForestClassifier\n",
        "\n",
        "model2 = RandomForestClassifier(n_estimators = 100)\n",
        "model2.fit(x_train, y_train)\n",
        "y_pred2 = model2.predict(x_test)\n",
        "CM = confusion_matrix(y_test, y_pred2)\n",
        "TN = CM[0][0]\n",
        "FN = CM[1][0]\n",
        "TP = CM[1][1]\n",
        "FP = CM[0][1]\n",
        "TNR = TN/(TN+FP) # Specificity or true negative rate\n",
        "FPR = FP/(FP+TN) # Fall out or false positive rate\n",
        "\n",
        "print(\"Random Forest Clasifier\")\n",
        "print(\"Train Accuracy:\",model2.score(x_train, y_train))\n",
        "print(\"Test Accuracy:\",model2.score(x_test, y_test))\n",
        "print(\"Precision Score: \",metrics.precision_score(y_test, y_pred2))\n",
        "print(\"Recall Score: \",metrics.recall_score(y_test, y_pred2)) #True positive rate\n",
        "print(\"True Negative Rate: \", TNR)\n",
        "print(\"False Positive Rate: \", FPR)\n",
        "print(\"F2 Score: \",metrics.fbeta_score(y_test, y_pred2, beta=2.0))\n",
        "print(\"F1 Score: \",metrics.f1_score(y_test, y_pred2))\n",
        "print(\"Confusion Matrix: \")\n",
        "print(confusion_matrix(y_test, y_pred2))\n",
        "print(\"ROC curve \",metrics.plot_roc_curve(model2,x_test, y_test))\n",
        "filename = 'RF_Model.pkl'\n",
        "pickle.dump(model2, open(filename, 'wb'))"
      ]
    },
    {
      "cell_type": "code",
      "execution_count": null,
      "metadata": {
        "colab": {
          "base_uri": "https://localhost:8080/",
          "height": 559
        },
        "id": "H7ts3dwIHY9v",
        "outputId": "15d366f6-3e72-43d5-a9a5-b467424e3b58"
      },
      "outputs": [
        {
          "name": "stdout",
          "output_type": "stream",
          "text": [
            "KNN\n",
            "Train Accuracy: 0.801941961822796\n",
            "Test Accuracy: 0.7740511915269197\n",
            "Precision Score:  0.7736298649722002\n",
            "Recall Score:  0.8109908409658618\n",
            "True Negative Rate:  0.7323943661971831\n",
            "False Positive Rate:  0.2676056338028169\n",
            "F2 Score:  0.8032327230743856\n",
            "F1 Score:  0.7918699186991871\n",
            "Confusion Matrix: \n",
            "[[780 285]\n",
            " [227 974]]\n"
          ]
        },
        {
          "name": "stderr",
          "output_type": "stream",
          "text": [
            "/usr/local/lib/python3.7/dist-packages/sklearn/utils/deprecation.py:87: FutureWarning: Function plot_roc_curve is deprecated; Function :func:`plot_roc_curve` is deprecated in 1.0 and will be removed in 1.2. Use one of the class methods: :meth:`sklearn.metric.RocCurveDisplay.from_predictions` or :meth:`sklearn.metric.RocCurveDisplay.from_estimator`.\n",
            "  warnings.warn(msg, category=FutureWarning)\n"
          ]
        },
        {
          "name": "stdout",
          "output_type": "stream",
          "text": [
            "ROC curve  <sklearn.metrics._plot.roc_curve.RocCurveDisplay object at 0x7f4cc4a95a90>\n"
          ]
        },
        {
          "data": {
            "image/png": "[encoded data removed]",
            "text/plain": [
              "<Figure size 432x288 with 1 Axes>"
            ]
          },
          "metadata": {
            "needs_background": "light"
          },
          "output_type": "display_data"
        }
      ],
      "source": [
        "from sklearn.neighbors import KNeighborsClassifier\n",
        "model3 = KNeighborsClassifier(n_neighbors = 29)\n",
        "model3.fit(x_train, y_train)\n",
        "y_pred3 = model3.predict(x_test)\n",
        "CM = confusion_matrix(y_test, y_pred3)\n",
        "TN = CM[0][0]\n",
        "FN = CM[1][0]\n",
        "TP = CM[1][1]\n",
        "FP = CM[0][1]\n",
        "TNR = TN/(TN+FP) # Specificity or true negative rate\n",
        "FPR = FP/(FP+TN)\n",
        "print(\"KNN\")\n",
        "print(\"Train Accuracy:\",model3.score(x_train, y_train))\n",
        "print(\"Test Accuracy:\",model3.score(x_test, y_test))\n",
        "print(\"Precision Score: \",metrics.precision_score(y_test, y_pred3))\n",
        "print(\"Recall Score: \",metrics.recall_score(y_test, y_pred3))\n",
        "print(\"True Negative Rate: \", TNR)\n",
        "print(\"False Positive Rate: \", FPR)\n",
        "print(\"F2 Score: \",metrics.fbeta_score(y_test, y_pred3, beta=2.0))\n",
        "print(\"F1 Score: \",metrics.f1_score(y_test, y_pred3))\n",
        "print(\"Confusion Matrix: \")\n",
        "print(confusion_matrix(y_test, y_pred3))\n",
        "print(\"ROC curve \",metrics.plot_roc_curve(model3,x_test, y_test))\n",
        "filename = 'KNN_Model.pkl'\n",
        "pickle.dump(model3, open(filename, 'wb'))"
      ]
    },
    {
      "cell_type": "code",
      "execution_count": null,
      "metadata": {
        "colab": {
          "base_uri": "https://localhost:8080/",
          "height": 559
        },
        "id": "6tItHDl8HY9w",
        "outputId": "03f1d8a9-0921-47f7-982d-cf1adbef281e"
      },
      "outputs": [
        {
          "name": "stdout",
          "output_type": "stream",
          "text": [
            "Logistic Regression\n",
            "Train Accuracy: 0.7092574202802604\n",
            "Test Accuracy: 0.705648720211827\n",
            "Precision Score:  0.7089201877934272\n",
            "Recall Score:  0.7543713572023314\n",
            "True Negative Rate:  0.6507042253521127\n",
            "False Positive Rate:  0.3492957746478873\n",
            "F2 Score:  0.7448207826372902\n",
            "F1 Score:  0.7309398951189997\n",
            "Confusion Matrix: \n",
            "[[693 372]\n",
            " [295 906]]\n",
            "ROC curve  <sklearn.metrics._plot.roc_curve.RocCurveDisplay object at 0x7f4cc48feed0>\n"
          ]
        },
        {
          "name": "stderr",
          "output_type": "stream",
          "text": [
            "/usr/local/lib/python3.7/dist-packages/sklearn/utils/deprecation.py:87: FutureWarning: Function plot_roc_curve is deprecated; Function :func:`plot_roc_curve` is deprecated in 1.0 and will be removed in 1.2. Use one of the class methods: :meth:`sklearn.metric.RocCurveDisplay.from_predictions` or :meth:`sklearn.metric.RocCurveDisplay.from_estimator`.\n",
            "  warnings.warn(msg, category=FutureWarning)\n"
          ]
        },
        {
          "data": {
            "image/png": "[encoded data removed]",
            "text/plain": [
              "<Figure size 432x288 with 1 Axes>"
            ]
          },
          "metadata": {
            "needs_background": "light"
          },
          "output_type": "display_data"
        }
      ],
      "source": [
        "from sklearn.naive_bayes import GaussianNB\n",
        "model4 = GaussianNB()\n",
        "model4.fit(x_train, y_train)\n",
        "y_pred4 = model4.predict(x_test)\n",
        "CM = confusion_matrix(y_test, y_pred4)\n",
        "TN = CM[0][0]\n",
        "FN = CM[1][0]\n",
        "TP = CM[1][1]\n",
        "FP = CM[0][1]\n",
        "TNR = TN/(TN+FP) # Specificity or true negative rate\n",
        "FPR = FP/(FP+TN)\n",
        "print(\"Logistic Regression\")\n",
        "print(\"Train Accuracy:\",model4.score(x_train, y_train))\n",
        "print(\"Test Accuracy:\",model4.score(x_test, y_test))\n",
        "print(\"Precision Score: \",metrics.precision_score(y_test, y_pred4))\n",
        "print(\"Recall Score: \",metrics.recall_score(y_test, y_pred4))\n",
        "print(\"True Negative Rate: \", TNR)\n",
        "print(\"False Positive Rate: \", FPR)\n",
        "print(\"F2 Score: \",metrics.fbeta_score(y_test, y_pred4, beta=2.0))\n",
        "print(\"F1 Score: \",metrics.f1_score(y_test, y_pred4))\n",
        "print(\"Confusion Matrix: \")\n",
        "print(confusion_matrix(y_test, y_pred4))\n",
        "print(\"ROC curve \",metrics.plot_roc_curve(model4,x_test, y_test))\n",
        "filename = 'NB_Model.pkl'\n",
        "pickle.dump(model4, open(filename, 'wb'))"
      ]
    },
    {
      "cell_type": "code",
      "execution_count": null,
      "metadata": {
        "id": "R48J8EvdZ1OU"
      },
      "outputs": [],
      "source": []
    },
    {
      "cell_type": "markdown",
      "metadata": {
        "id": "FaI9j35VZ1OU"
      },
      "source": [
        "##### Repeat with k = 5 folds classification"
      ]
    },
    {
      "cell_type": "code",
      "execution_count": null,
      "metadata": {
        "id": "OIU9hk3ZZ1OU"
      },
      "outputs": [],
      "source": []
    }
  ],
  "metadata": {
    "colab": {
      "provenance": []
    },
    "kernelspec": {
      "display_name": "Python 3 (ipykernel)",
      "language": "python",
      "name": "python3"
    },
    "language_info": {
      "codemirror_mode": {
        "name": "ipython",
        "version": 3
      },
      "file_extension": ".py",
      "mimetype": "text/x-python",
      "name": "python",
      "nbconvert_exporter": "python",
      "pygments_lexer": "ipython3",
      "version": "3.11.4"
    }
  },
  "nbformat": 4,
  "nbformat_minor": 0
}
