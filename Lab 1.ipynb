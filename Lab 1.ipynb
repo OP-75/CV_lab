{
 "cells": [
  {
   "cell_type": "code",
   "execution_count": 3,
   "id": "a8cbeed3-7bc6-4b33-bb5f-a47ae339a8ad",
   "metadata": {},
   "outputs": [],
   "source": [
    "import cv2"
   ]
  },
  {
   "cell_type": "code",
   "execution_count": 4,
   "id": "acc6d43f-829d-4dcb-8358-7c9c79b7b91c",
   "metadata": {},
   "outputs": [],
   "source": [
    "image = cv2.imread(\"images/sr2.jpg\")"
   ]
  },
  {
   "cell_type": "code",
   "execution_count": null,
   "id": "d7ae2d36-44bf-4e4c-9c09-eab59a9e3b7f",
   "metadata": {},
   "outputs": [],
   "source": []
  },
  {
   "cell_type": "code",
   "execution_count": null,
   "id": "cf526664-c03e-4ebb-8e50-a3ea30de266f",
   "metadata": {},
   "outputs": [],
   "source": []
  }
 ],
 "metadata": {
  "kernelspec": {
   "display_name": "Python 3 (ipykernel)",
   "language": "python",
   "name": "python3"
  },
  "language_info": {
   "codemirror_mode": {
    "name": "ipython",
    "version": 3
   },
   "file_extension": ".py",
   "mimetype": "text/x-python",
   "name": "python",
   "nbconvert_exporter": "python",
   "pygments_lexer": "ipython3",
   "version": "3.11.4"
  }
 },
 "nbformat": 4,
 "nbformat_minor": 5
}
