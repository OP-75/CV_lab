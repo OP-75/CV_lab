{
 "cells": [
  {
   "cell_type": "code",
   "execution_count": 1,
   "id": "a8cbeed3-7bc6-4b33-bb5f-a47ae339a8ad",
   "metadata": {},
   "outputs": [],
   "source": [
    "import cv2"
   ]
  },
  {
   "cell_type": "code",
   "execution_count": 9,
   "id": "acc6d43f-829d-4dcb-8358-7c9c79b7b91c",
   "metadata": {},
   "outputs": [],
   "source": [
    "image = cv2.imread(\"images/sr2.jpg\")\n",
    "cv2.imshow('Image', image)\n",
    "cv2.waitKey(0)\n",
    "cv2.destroyAllWindows()"
   ]
  },
  {
   "cell_type": "code",
   "execution_count": 7,
   "id": "d7ae2d36-44bf-4e4c-9c09-eab59a9e3b7f",
   "metadata": {},
   "outputs": [
    {
     "data": {
      "text/plain": [
       "True"
      ]
     },
     "execution_count": 7,
     "metadata": {},
     "output_type": "execute_result"
    }
   ],
   "source": [
    "cv2.imwrite(r\"output images/output_sr2.jpg\", image)"
   ]
  },
  {
   "cell_type": "markdown",
   "id": "53a17f6c",
   "metadata": {},
   "source": [
    "Reading video:"
   ]
  },
  {
   "cell_type": "code",
   "execution_count": 11,
   "id": "cf526664-c03e-4ebb-8e50-a3ea30de266f",
   "metadata": {},
   "outputs": [],
   "source": [
    "def read_and_display_video(video_path):\n",
    "    cap = cv2.VideoCapture(video_path)\n",
    "    while True:\n",
    "        ret, frame = cap.read()\n",
    "        if not ret:\n",
    "            break\n",
    "        cv2.imshow('Video Without Audio', frame)\n",
    "        if cv2.waitKey(30) & 0xFF == ord('q'):\n",
    "            break\n",
    "    cap.release()\n",
    "    cv2.destroyAllWindows()\n",
    "\n",
    "read_and_display_video(\"dummyVideo.mp4\")\n",
    "\n"
   ]
  },
  {
   "cell_type": "code",
   "execution_count": 12,
   "id": "a8a1652b",
   "metadata": {},
   "outputs": [],
   "source": [
    "def read_and_display_video_with_audio(video_path):\n",
    "    cap = cv2.VideoCapture(video_path)\n",
    "    while True:\n",
    "        ret, frame = cap.read()\n",
    "        if not ret:\n",
    "            break\n",
    "        cv2.imshow('Video With Audio', frame)\n",
    "        if cv2.waitKey(30) & 0xFF == ord('q'):\n",
    "            break\n",
    "    cap.release()\n",
    "    cv2.destroyAllWindows()\n",
    "\n",
    "read_and_display_video_with_audio(\"dummyVideo.mp4\")"
   ]
  },
  {
   "cell_type": "code",
   "execution_count": null,
   "id": "d6d960ca",
   "metadata": {},
   "outputs": [],
   "source": [
    "def record_video_and_display(output_path, duration=10):\n",
    "    cap = cv2.VideoCapture(0)  # 0 for the default webcam\n",
    "    fourcc = cv2.VideoWriter_fourcc(*'XVID')\n",
    "    out = cv2.VideoWriter(output_path, fourcc, 20.0, (640, 480))\n",
    "    start_time = cv2.getTickCount()\n",
    "    while int((cv2.getTickCount() - start_time) / cv2.getTickFrequency()) < duration:\n",
    "        ret, frame = cap.read()\n",
    "        if not ret:\n",
    "            break\n",
    "        out.write(frame)\n",
    "        cv2.imshow('Recording', frame)\n",
    "        if cv2.waitKey(1) & 0xFF == ord('q'):\n",
    "            break\n",
    "    cap.release()\n",
    "    out.release()\n",
    "    cv2.destroyAllWindows()\n",
    "\n",
    "record_video_and_display(\"recorded Video.mp4\")"
   ]
  }
 ],
 "metadata": {
  "kernelspec": {
   "display_name": "Python 3 (ipykernel)",
   "language": "python",
   "name": "python3"
  },
  "language_info": {
   "codemirror_mode": {
    "name": "ipython",
    "version": 3
   },
   "file_extension": ".py",
   "mimetype": "text/x-python",
   "name": "python",
   "nbconvert_exporter": "python",
   "pygments_lexer": "ipython3",
   "version": "3.11.4"
  }
 },
 "nbformat": 4,
 "nbformat_minor": 5
}
